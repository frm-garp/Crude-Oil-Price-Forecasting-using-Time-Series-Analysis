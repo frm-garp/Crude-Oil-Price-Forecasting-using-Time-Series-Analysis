{
 "cells": [
  {
   "cell_type": "markdown",
   "metadata": {},
   "source": [
    "## Crude Oil Price Forecasting using timeseries analysis"
   ]
  },
  {
   "cell_type": "markdown",
   "metadata": {},
   "source": [
    "data source : https://www.investing.com/commodities/crude-oil-historical-data"
   ]
  },
  {
   "cell_type": "markdown",
   "metadata": {},
   "source": [
    "model type : recurrent neural network (RNN) with long short term memory (LSTM)"
   ]
  },
  {
   "cell_type": "markdown",
   "metadata": {},
   "source": [
    "pre-requisite : https://chromedriver.chromium.org/downloads "
   ]
  },
  {
   "cell_type": "code",
   "execution_count": 18,
   "metadata": {
    "scrolled": true
   },
   "outputs": [],
   "source": [
    "# import necessary libraries\n",
    "import pandas as pd\n",
    "from selenium import webdriver\n",
    "import time\n",
    "import matplotlib.pyplot as plt\n",
    "import numpy as np"
   ]
  },
  {
   "cell_type": "code",
   "execution_count": 19,
   "metadata": {},
   "outputs": [
    {
     "name": "stdout",
     "output_type": "stream",
     "text": [
      "Requirement already satisfied: selenium in c:\\programdata\\anaconda3\\lib\\site-packages (3.141.0)\n",
      "Requirement already satisfied: urllib3 in c:\\programdata\\anaconda3\\lib\\site-packages (from selenium) (1.25.8)\n",
      "Note: you may need to restart the kernel to use updated packages.\n"
     ]
    }
   ],
   "source": [
    "pip install selenium"
   ]
  },
  {
   "cell_type": "markdown",
   "metadata": {},
   "source": [
    "### Data Mining"
   ]
  },
  {
   "cell_type": "code",
   "execution_count": 20,
   "metadata": {},
   "outputs": [],
   "source": [
    "# to scrap a dynamic webpage , selenimum webdriver is required\n",
    "# for the function to work on other system, download webdriver for your platform from \n",
    "# https://chromedriver.chromium.org/downloads \n",
    "# unzip the downloaded file and place the chromewebdriver and copy the path\n",
    "# Update the line browser = webdriver.Chrome('path_to_webdriver')\n",
    "\n",
    "# following function scraps webdata and return pandas dataframe\n",
    "def scrap_historical_data():\n",
    "    # instantiate chrome webdriver\n",
    "    browser = webdriver.Chrome('c:\\Roi\\chromedriver.exe')\n",
    "    url = 'https://www.investing.com/commodities/crude-oil-historical-data'\n",
    "\n",
    "    browser.get(url)\n",
    "    # add wait time for the webpage to load\n",
    "    time.sleep(10)\n",
    "    # remove any popups\n",
    "    try:\n",
    "        popup = browser.find_element_by_xpath('//*[@id=\"PromoteSignUpPopUp\"]/div[2]/i')\n",
    "        popup.click()\n",
    "    except:\n",
    "        pass\n",
    "    field = browser.find_element_by_xpath('//*[@id=\"widgetFieldDateRange\"]')\n",
    "    field.click()\n",
    "    # add wait time for the webpage to load\n",
    "    time.sleep(2)\n",
    "    # set date limit to which historical data is considered\n",
    "    start_date = browser.find_element_by_xpath('//*[@id=\"startDate\"]')\n",
    "    start_date.clear()\n",
    "    start_date.send_keys('01/01/2000')\n",
    "    enter_key = browser.find_element_by_xpath('//*[@id=\"applyBtn\"]')\n",
    "    enter_key.click()\n",
    "    # add wait time for the webpage to load\n",
    "    time.sleep(10)\n",
    "    # remove any popups\n",
    "    try:\n",
    "        popup = browser.find_element_by_xpath('//*[@id=\"PromoteSignUpPopUp\"]/div[2]/i')\n",
    "        popup.click()\n",
    "    except:\n",
    "        pass\n",
    "    # load the data from webpage\n",
    "    try:\n",
    "        tabel = browser.find_element_by_xpath('//*[@id=\"curr_table\"]').get_attribute('outerHTML')\n",
    "    except:\n",
    "        # remove any popups\n",
    "        try:\n",
    "            popup = browser.find_element_by_xpath('//*[@id=\"PromoteSignUpPopUp\"]/div[2]/i')\n",
    "            popup.click()\n",
    "        except:\n",
    "            pass\n",
    "        # load the data from webpage\n",
    "        tabel = browser.find_element_by_xpath('//*[@id=\"curr_table\"]').get_attribute('outerHTML')\n",
    "    df  = pd.read_html(tabel)\n",
    "    dataset = df[0]\n",
    "    # save a copy of data scarpped into local directory\n",
    "    dataset.to_csv('crude_oil_price_history.csv')\n",
    "    return dataset"
   ]
  },
  {
   "cell_type": "code",
   "execution_count": 21,
   "metadata": {},
   "outputs": [
    {
     "name": "stdout",
     "output_type": "stream",
     "text": [
      "           Date  Price\n",
      "0    2019-08-23  54.17\n",
      "1    2019-08-22  55.35\n",
      "2    2019-08-21  55.68\n",
      "3    2019-08-20  56.34\n",
      "4    2019-08-19  56.21\n",
      "...         ...    ...\n",
      "4995 2000-01-10  24.67\n",
      "4996 2000-01-07  24.22\n",
      "4997 2000-01-06  24.78\n",
      "4998 2000-01-05  24.91\n",
      "4999 2000-01-04  25.55\n",
      "\n",
      "[5000 rows x 2 columns]\n"
     ]
    }
   ],
   "source": [
    "# invoke scrapping function\n",
    "main_dataset = scrap_historical_data()\n",
    "# parse data in scrapped data to standard timestamp format\n",
    "main_dataset.loc[:,'Date'] = pd.to_datetime(main_dataset.loc[:,'Date'])\n",
    "# Drop columns that are not needed to do prediction\n",
    "main_dataset.drop(columns=['Open','High','Low','Vol.','Change %'], inplace=True, axis=1)\n",
    "# Display the sample to see how dataframe looks now\n",
    "print(main_dataset)"
   ]
  },
  {
   "cell_type": "markdown",
   "metadata": {},
   "source": [
    "# Data Cleaning"
   ]
  },
  {
   "cell_type": "code",
   "execution_count": null,
   "metadata": {},
   "outputs": [],
   "source": [
    "# set index of the datafarme as timestamp\n",
    "cleaned_dataset = main_dataset.set_index('Date')\n",
    "# downsample the data to fix the data frequency \n",
    "# dataframe now contains crudeoil price for once in 3 days\n",
    "# upsample is not done since it will add noise to the data\n",
    "resample = cleaned_dataset.resample('3D').ffill()\n",
    "\n",
    "# isolate test data from training data\n",
    "real_data = resample.iloc[-12:,:]\n",
    "test_data = resample.iloc[-24:-12,:]\n",
    "\n",
    "# create the masked sample which doesn't contain the test data\n",
    "masked_resample = resample.iloc[:-24,:]"
   ]
  },
  {
   "cell_type": "markdown",
   "metadata": {},
   "source": [
    "### Feature Engineering"
   ]
  },
  {
   "cell_type": "code",
   "execution_count": 7,
   "metadata": {},
   "outputs": [
    {
     "name": "stderr",
     "output_type": "stream",
     "text": [
      "C:\\ProgramData\\Anaconda3\\lib\\site-packages\\ipykernel_launcher.py:3: SettingWithCopyWarning: \n",
      "A value is trying to be set on a copy of a slice from a DataFrame.\n",
      "Try using .loc[row_indexer,col_indexer] = value instead\n",
      "\n",
      "See the caveats in the documentation: http://pandas.pydata.org/pandas-docs/stable/user_guide/indexing.html#returning-a-view-versus-a-copy\n",
      "  This is separate from the ipykernel package so we can avoid doing imports until\n",
      "C:\\ProgramData\\Anaconda3\\lib\\site-packages\\ipykernel_launcher.py:4: SettingWithCopyWarning: \n",
      "A value is trying to be set on a copy of a slice from a DataFrame.\n",
      "Try using .loc[row_indexer,col_indexer] = value instead\n",
      "\n",
      "See the caveats in the documentation: http://pandas.pydata.org/pandas-docs/stable/user_guide/indexing.html#returning-a-view-versus-a-copy\n",
      "  after removing the cwd from sys.path.\n",
      "C:\\ProgramData\\Anaconda3\\lib\\site-packages\\ipykernel_launcher.py:5: SettingWithCopyWarning: \n",
      "A value is trying to be set on a copy of a slice from a DataFrame.\n",
      "Try using .loc[row_indexer,col_indexer] = value instead\n",
      "\n",
      "See the caveats in the documentation: http://pandas.pydata.org/pandas-docs/stable/user_guide/indexing.html#returning-a-view-versus-a-copy\n",
      "  \"\"\"\n",
      "C:\\ProgramData\\Anaconda3\\lib\\site-packages\\ipykernel_launcher.py:6: SettingWithCopyWarning: \n",
      "A value is trying to be set on a copy of a slice from a DataFrame.\n",
      "Try using .loc[row_indexer,col_indexer] = value instead\n",
      "\n",
      "See the caveats in the documentation: http://pandas.pydata.org/pandas-docs/stable/user_guide/indexing.html#returning-a-view-versus-a-copy\n",
      "  \n",
      "C:\\ProgramData\\Anaconda3\\lib\\site-packages\\ipykernel_launcher.py:7: SettingWithCopyWarning: \n",
      "A value is trying to be set on a copy of a slice from a DataFrame.\n",
      "Try using .loc[row_indexer,col_indexer] = value instead\n",
      "\n",
      "See the caveats in the documentation: http://pandas.pydata.org/pandas-docs/stable/user_guide/indexing.html#returning-a-view-versus-a-copy\n",
      "  import sys\n",
      "C:\\ProgramData\\Anaconda3\\lib\\site-packages\\ipykernel_launcher.py:8: SettingWithCopyWarning: \n",
      "A value is trying to be set on a copy of a slice from a DataFrame.\n",
      "Try using .loc[row_indexer,col_indexer] = value instead\n",
      "\n",
      "See the caveats in the documentation: http://pandas.pydata.org/pandas-docs/stable/user_guide/indexing.html#returning-a-view-versus-a-copy\n",
      "  \n",
      "C:\\ProgramData\\Anaconda3\\lib\\site-packages\\ipykernel_launcher.py:9: SettingWithCopyWarning: \n",
      "A value is trying to be set on a copy of a slice from a DataFrame.\n",
      "Try using .loc[row_indexer,col_indexer] = value instead\n",
      "\n",
      "See the caveats in the documentation: http://pandas.pydata.org/pandas-docs/stable/user_guide/indexing.html#returning-a-view-versus-a-copy\n",
      "  if __name__ == '__main__':\n",
      "C:\\ProgramData\\Anaconda3\\lib\\site-packages\\ipykernel_launcher.py:10: SettingWithCopyWarning: \n",
      "A value is trying to be set on a copy of a slice from a DataFrame.\n",
      "Try using .loc[row_indexer,col_indexer] = value instead\n",
      "\n",
      "See the caveats in the documentation: http://pandas.pydata.org/pandas-docs/stable/user_guide/indexing.html#returning-a-view-versus-a-copy\n",
      "  # Remove the CWD from sys.path while we load stuff.\n",
      "C:\\ProgramData\\Anaconda3\\lib\\site-packages\\ipykernel_launcher.py:11: SettingWithCopyWarning: \n",
      "A value is trying to be set on a copy of a slice from a DataFrame.\n",
      "Try using .loc[row_indexer,col_indexer] = value instead\n",
      "\n",
      "See the caveats in the documentation: http://pandas.pydata.org/pandas-docs/stable/user_guide/indexing.html#returning-a-view-versus-a-copy\n",
      "  # This is added back by InteractiveShellApp.init_path()\n",
      "C:\\ProgramData\\Anaconda3\\lib\\site-packages\\ipykernel_launcher.py:12: SettingWithCopyWarning: \n",
      "A value is trying to be set on a copy of a slice from a DataFrame.\n",
      "Try using .loc[row_indexer,col_indexer] = value instead\n",
      "\n",
      "See the caveats in the documentation: http://pandas.pydata.org/pandas-docs/stable/user_guide/indexing.html#returning-a-view-versus-a-copy\n",
      "  if sys.path[0] == '':\n",
      "C:\\ProgramData\\Anaconda3\\lib\\site-packages\\ipykernel_launcher.py:13: SettingWithCopyWarning: \n",
      "A value is trying to be set on a copy of a slice from a DataFrame.\n",
      "Try using .loc[row_indexer,col_indexer] = value instead\n",
      "\n",
      "See the caveats in the documentation: http://pandas.pydata.org/pandas-docs/stable/user_guide/indexing.html#returning-a-view-versus-a-copy\n",
      "  del sys.path[0]\n",
      "C:\\ProgramData\\Anaconda3\\lib\\site-packages\\ipykernel_launcher.py:14: SettingWithCopyWarning: \n",
      "A value is trying to be set on a copy of a slice from a DataFrame.\n",
      "Try using .loc[row_indexer,col_indexer] = value instead\n",
      "\n",
      "See the caveats in the documentation: http://pandas.pydata.org/pandas-docs/stable/user_guide/indexing.html#returning-a-view-versus-a-copy\n",
      "  \n",
      "C:\\ProgramData\\Anaconda3\\lib\\site-packages\\ipykernel_launcher.py:15: SettingWithCopyWarning: \n",
      "A value is trying to be set on a copy of a slice from a DataFrame.\n",
      "Try using .loc[row_indexer,col_indexer] = value instead\n",
      "\n",
      "See the caveats in the documentation: http://pandas.pydata.org/pandas-docs/stable/user_guide/indexing.html#returning-a-view-versus-a-copy\n",
      "  from ipykernel import kernelapp as app\n",
      "C:\\ProgramData\\Anaconda3\\lib\\site-packages\\ipykernel_launcher.py:16: SettingWithCopyWarning: \n",
      "A value is trying to be set on a copy of a slice from a DataFrame.\n",
      "Try using .loc[row_indexer,col_indexer] = value instead\n",
      "\n",
      "See the caveats in the documentation: http://pandas.pydata.org/pandas-docs/stable/user_guide/indexing.html#returning-a-view-versus-a-copy\n",
      "  app.launch_new_instance()\n",
      "C:\\ProgramData\\Anaconda3\\lib\\site-packages\\ipykernel_launcher.py:17: SettingWithCopyWarning: \n",
      "A value is trying to be set on a copy of a slice from a DataFrame.\n",
      "Try using .loc[row_indexer,col_indexer] = value instead\n",
      "\n",
      "See the caveats in the documentation: http://pandas.pydata.org/pandas-docs/stable/user_guide/indexing.html#returning-a-view-versus-a-copy\n",
      "C:\\ProgramData\\Anaconda3\\lib\\site-packages\\ipykernel_launcher.py:18: SettingWithCopyWarning: \n",
      "A value is trying to be set on a copy of a slice from a DataFrame.\n",
      "Try using .loc[row_indexer,col_indexer] = value instead\n",
      "\n",
      "See the caveats in the documentation: http://pandas.pydata.org/pandas-docs/stable/user_guide/indexing.html#returning-a-view-versus-a-copy\n",
      "C:\\ProgramData\\Anaconda3\\lib\\site-packages\\ipykernel_launcher.py:19: SettingWithCopyWarning: \n",
      "A value is trying to be set on a copy of a slice from a DataFrame.\n",
      "Try using .loc[row_indexer,col_indexer] = value instead\n",
      "\n",
      "See the caveats in the documentation: http://pandas.pydata.org/pandas-docs/stable/user_guide/indexing.html#returning-a-view-versus-a-copy\n",
      "C:\\ProgramData\\Anaconda3\\lib\\site-packages\\ipykernel_launcher.py:20: SettingWithCopyWarning: \n",
      "A value is trying to be set on a copy of a slice from a DataFrame.\n",
      "Try using .loc[row_indexer,col_indexer] = value instead\n",
      "\n",
      "See the caveats in the documentation: http://pandas.pydata.org/pandas-docs/stable/user_guide/indexing.html#returning-a-view-versus-a-copy\n",
      "C:\\ProgramData\\Anaconda3\\lib\\site-packages\\ipykernel_launcher.py:21: SettingWithCopyWarning: \n",
      "A value is trying to be set on a copy of a slice from a DataFrame.\n",
      "Try using .loc[row_indexer,col_indexer] = value instead\n",
      "\n",
      "See the caveats in the documentation: http://pandas.pydata.org/pandas-docs/stable/user_guide/indexing.html#returning-a-view-versus-a-copy\n",
      "C:\\ProgramData\\Anaconda3\\lib\\site-packages\\ipykernel_launcher.py:22: SettingWithCopyWarning: \n",
      "A value is trying to be set on a copy of a slice from a DataFrame.\n",
      "Try using .loc[row_indexer,col_indexer] = value instead\n",
      "\n",
      "See the caveats in the documentation: http://pandas.pydata.org/pandas-docs/stable/user_guide/indexing.html#returning-a-view-versus-a-copy\n",
      "C:\\ProgramData\\Anaconda3\\lib\\site-packages\\ipykernel_launcher.py:23: SettingWithCopyWarning: \n",
      "A value is trying to be set on a copy of a slice from a DataFrame.\n",
      "Try using .loc[row_indexer,col_indexer] = value instead\n",
      "\n",
      "See the caveats in the documentation: http://pandas.pydata.org/pandas-docs/stable/user_guide/indexing.html#returning-a-view-versus-a-copy\n",
      "C:\\ProgramData\\Anaconda3\\lib\\site-packages\\ipykernel_launcher.py:24: SettingWithCopyWarning: \n",
      "A value is trying to be set on a copy of a slice from a DataFrame.\n",
      "Try using .loc[row_indexer,col_indexer] = value instead\n",
      "\n",
      "See the caveats in the documentation: http://pandas.pydata.org/pandas-docs/stable/user_guide/indexing.html#returning-a-view-versus-a-copy\n",
      "C:\\ProgramData\\Anaconda3\\lib\\site-packages\\ipykernel_launcher.py:25: SettingWithCopyWarning: \n",
      "A value is trying to be set on a copy of a slice from a DataFrame.\n",
      "Try using .loc[row_indexer,col_indexer] = value instead\n",
      "\n",
      "See the caveats in the documentation: http://pandas.pydata.org/pandas-docs/stable/user_guide/indexing.html#returning-a-view-versus-a-copy\n",
      "C:\\ProgramData\\Anaconda3\\lib\\site-packages\\ipykernel_launcher.py:27: SettingWithCopyWarning: \n",
      "A value is trying to be set on a copy of a slice from a DataFrame\n",
      "\n",
      "See the caveats in the documentation: http://pandas.pydata.org/pandas-docs/stable/user_guide/indexing.html#returning-a-view-versus-a-copy\n"
     ]
    },
    {
     "data": {
      "text/html": [
       "<div>\n",
       "<style scoped>\n",
       "    .dataframe tbody tr th:only-of-type {\n",
       "        vertical-align: middle;\n",
       "    }\n",
       "\n",
       "    .dataframe tbody tr th {\n",
       "        vertical-align: top;\n",
       "    }\n",
       "\n",
       "    .dataframe thead th {\n",
       "        text-align: right;\n",
       "    }\n",
       "</style>\n",
       "<table border=\"1\" class=\"dataframe\">\n",
       "  <thead>\n",
       "    <tr style=\"text-align: right;\">\n",
       "      <th></th>\n",
       "      <th>Price</th>\n",
       "      <th>Price+1</th>\n",
       "      <th>Price+2</th>\n",
       "      <th>Price+3</th>\n",
       "      <th>Price+4</th>\n",
       "      <th>Price+5</th>\n",
       "      <th>Price+6</th>\n",
       "      <th>Price+7</th>\n",
       "      <th>Price+8</th>\n",
       "      <th>Price+9</th>\n",
       "      <th>...</th>\n",
       "      <th>Price+14</th>\n",
       "      <th>Price+15</th>\n",
       "      <th>Price+16</th>\n",
       "      <th>Price+17</th>\n",
       "      <th>Price+18</th>\n",
       "      <th>Price+19</th>\n",
       "      <th>Price+20</th>\n",
       "      <th>Price+21</th>\n",
       "      <th>Price+22</th>\n",
       "      <th>Price+23</th>\n",
       "    </tr>\n",
       "    <tr>\n",
       "      <th>Date</th>\n",
       "      <th></th>\n",
       "      <th></th>\n",
       "      <th></th>\n",
       "      <th></th>\n",
       "      <th></th>\n",
       "      <th></th>\n",
       "      <th></th>\n",
       "      <th></th>\n",
       "      <th></th>\n",
       "      <th></th>\n",
       "      <th></th>\n",
       "      <th></th>\n",
       "      <th></th>\n",
       "      <th></th>\n",
       "      <th></th>\n",
       "      <th></th>\n",
       "      <th></th>\n",
       "      <th></th>\n",
       "      <th></th>\n",
       "      <th></th>\n",
       "      <th></th>\n",
       "    </tr>\n",
       "  </thead>\n",
       "  <tbody>\n",
       "    <tr>\n",
       "      <th>2000-01-04</th>\n",
       "      <td>25.55</td>\n",
       "      <td>24.22</td>\n",
       "      <td>24.67</td>\n",
       "      <td>26.69</td>\n",
       "      <td>28.02</td>\n",
       "      <td>29.54</td>\n",
       "      <td>28.20</td>\n",
       "      <td>28.28</td>\n",
       "      <td>27.22</td>\n",
       "      <td>27.64</td>\n",
       "      <td>...</td>\n",
       "      <td>30.06</td>\n",
       "      <td>29.51</td>\n",
       "      <td>29.51</td>\n",
       "      <td>29.97</td>\n",
       "      <td>30.35</td>\n",
       "      <td>31.77</td>\n",
       "      <td>31.51</td>\n",
       "      <td>34.13</td>\n",
       "      <td>31.76</td>\n",
       "      <td>32.02</td>\n",
       "    </tr>\n",
       "    <tr>\n",
       "      <th>2000-01-07</th>\n",
       "      <td>24.22</td>\n",
       "      <td>24.67</td>\n",
       "      <td>26.69</td>\n",
       "      <td>28.02</td>\n",
       "      <td>29.54</td>\n",
       "      <td>28.20</td>\n",
       "      <td>28.28</td>\n",
       "      <td>27.22</td>\n",
       "      <td>27.64</td>\n",
       "      <td>28.03</td>\n",
       "      <td>...</td>\n",
       "      <td>29.51</td>\n",
       "      <td>29.51</td>\n",
       "      <td>29.97</td>\n",
       "      <td>30.35</td>\n",
       "      <td>31.77</td>\n",
       "      <td>31.51</td>\n",
       "      <td>34.13</td>\n",
       "      <td>31.76</td>\n",
       "      <td>32.02</td>\n",
       "      <td>31.09</td>\n",
       "    </tr>\n",
       "    <tr>\n",
       "      <th>2000-01-10</th>\n",
       "      <td>24.67</td>\n",
       "      <td>26.69</td>\n",
       "      <td>28.02</td>\n",
       "      <td>29.54</td>\n",
       "      <td>28.20</td>\n",
       "      <td>28.28</td>\n",
       "      <td>27.22</td>\n",
       "      <td>27.64</td>\n",
       "      <td>28.03</td>\n",
       "      <td>28.82</td>\n",
       "      <td>...</td>\n",
       "      <td>29.51</td>\n",
       "      <td>29.97</td>\n",
       "      <td>30.35</td>\n",
       "      <td>31.77</td>\n",
       "      <td>31.51</td>\n",
       "      <td>34.13</td>\n",
       "      <td>31.76</td>\n",
       "      <td>32.02</td>\n",
       "      <td>31.09</td>\n",
       "      <td>30.91</td>\n",
       "    </tr>\n",
       "    <tr>\n",
       "      <th>2000-01-13</th>\n",
       "      <td>26.69</td>\n",
       "      <td>28.02</td>\n",
       "      <td>29.54</td>\n",
       "      <td>28.20</td>\n",
       "      <td>28.28</td>\n",
       "      <td>27.22</td>\n",
       "      <td>27.64</td>\n",
       "      <td>28.03</td>\n",
       "      <td>28.82</td>\n",
       "      <td>28.77</td>\n",
       "      <td>...</td>\n",
       "      <td>29.97</td>\n",
       "      <td>30.35</td>\n",
       "      <td>31.77</td>\n",
       "      <td>31.51</td>\n",
       "      <td>34.13</td>\n",
       "      <td>31.76</td>\n",
       "      <td>32.02</td>\n",
       "      <td>31.09</td>\n",
       "      <td>30.91</td>\n",
       "      <td>27.46</td>\n",
       "    </tr>\n",
       "    <tr>\n",
       "      <th>2000-01-16</th>\n",
       "      <td>28.02</td>\n",
       "      <td>29.54</td>\n",
       "      <td>28.20</td>\n",
       "      <td>28.28</td>\n",
       "      <td>27.22</td>\n",
       "      <td>27.64</td>\n",
       "      <td>28.03</td>\n",
       "      <td>28.82</td>\n",
       "      <td>28.77</td>\n",
       "      <td>29.44</td>\n",
       "      <td>...</td>\n",
       "      <td>30.35</td>\n",
       "      <td>31.77</td>\n",
       "      <td>31.51</td>\n",
       "      <td>34.13</td>\n",
       "      <td>31.76</td>\n",
       "      <td>32.02</td>\n",
       "      <td>31.09</td>\n",
       "      <td>30.91</td>\n",
       "      <td>27.46</td>\n",
       "      <td>28.02</td>\n",
       "    </tr>\n",
       "  </tbody>\n",
       "</table>\n",
       "<p>5 rows × 24 columns</p>\n",
       "</div>"
      ],
      "text/plain": [
       "            Price  Price+1  Price+2  Price+3  Price+4  Price+5  Price+6  \\\n",
       "Date                                                                      \n",
       "2000-01-04  25.55    24.22    24.67    26.69    28.02    29.54    28.20   \n",
       "2000-01-07  24.22    24.67    26.69    28.02    29.54    28.20    28.28   \n",
       "2000-01-10  24.67    26.69    28.02    29.54    28.20    28.28    27.22   \n",
       "2000-01-13  26.69    28.02    29.54    28.20    28.28    27.22    27.64   \n",
       "2000-01-16  28.02    29.54    28.20    28.28    27.22    27.64    28.03   \n",
       "\n",
       "            Price+7  Price+8  Price+9  ...  Price+14  Price+15  Price+16  \\\n",
       "Date                                   ...                                 \n",
       "2000-01-04    28.28    27.22    27.64  ...     30.06     29.51     29.51   \n",
       "2000-01-07    27.22    27.64    28.03  ...     29.51     29.51     29.97   \n",
       "2000-01-10    27.64    28.03    28.82  ...     29.51     29.97     30.35   \n",
       "2000-01-13    28.03    28.82    28.77  ...     29.97     30.35     31.77   \n",
       "2000-01-16    28.82    28.77    29.44  ...     30.35     31.77     31.51   \n",
       "\n",
       "            Price+17  Price+18  Price+19  Price+20  Price+21  Price+22  \\\n",
       "Date                                                                     \n",
       "2000-01-04     29.97     30.35     31.77     31.51     34.13     31.76   \n",
       "2000-01-07     30.35     31.77     31.51     34.13     31.76     32.02   \n",
       "2000-01-10     31.77     31.51     34.13     31.76     32.02     31.09   \n",
       "2000-01-13     31.51     34.13     31.76     32.02     31.09     30.91   \n",
       "2000-01-16     34.13     31.76     32.02     31.09     30.91     27.46   \n",
       "\n",
       "            Price+23  \n",
       "Date                  \n",
       "2000-01-04     32.02  \n",
       "2000-01-07     31.09  \n",
       "2000-01-10     30.91  \n",
       "2000-01-13     27.46  \n",
       "2000-01-16     28.02  \n",
       "\n",
       "[5 rows x 24 columns]"
      ]
     },
     "execution_count": 7,
     "metadata": {},
     "output_type": "execute_result"
    }
   ],
   "source": [
    "# adding sliding window for creation of forecasting model\n",
    "# the forecasting model will take 12 previous data points of crude oil price and forecast future 12 datapoints\n",
    "masked_resample['Price+1'] = masked_resample['Price'].shift(-1)\n",
    "masked_resample['Price+2'] = masked_resample['Price'].shift(-2)\n",
    "masked_resample['Price+3'] = masked_resample['Price'].shift(-3)\n",
    "masked_resample['Price+4'] = masked_resample['Price'].shift(-4)\n",
    "masked_resample['Price+5'] = masked_resample['Price'].shift(-5)\n",
    "masked_resample['Price+6'] = masked_resample['Price'].shift(-6)\n",
    "masked_resample['Price+7'] = masked_resample['Price'].shift(-7)\n",
    "masked_resample['Price+8'] = masked_resample['Price'].shift(-8)\n",
    "masked_resample['Price+9'] = masked_resample['Price'].shift(-9)\n",
    "masked_resample['Price+10'] = masked_resample['Price'].shift(-10)\n",
    "masked_resample['Price+11'] = masked_resample['Price'].shift(-11)\n",
    "masked_resample['Price+12'] = masked_resample['Price'].shift(-12)\n",
    "masked_resample['Price+13'] = masked_resample['Price'].shift(-13)\n",
    "masked_resample['Price+14'] = masked_resample['Price'].shift(-14)\n",
    "masked_resample['Price+15'] = masked_resample['Price'].shift(-15)\n",
    "masked_resample['Price+16'] = masked_resample['Price'].shift(-16)\n",
    "masked_resample['Price+17'] = masked_resample['Price'].shift(-17)\n",
    "masked_resample['Price+18'] = masked_resample['Price'].shift(-18)\n",
    "masked_resample['Price+19'] = masked_resample['Price'].shift(-19)\n",
    "masked_resample['Price+20'] = masked_resample['Price'].shift(-20)\n",
    "masked_resample['Price+21'] = masked_resample['Price'].shift(-21)\n",
    "masked_resample['Price+22'] = masked_resample['Price'].shift(-22)\n",
    "masked_resample['Price+23'] = masked_resample['Price'].shift(-23)\n",
    "# drop the trailing row which contains NaN and cleanup the masked sample\n",
    "masked_resample.dropna(inplace=True)\n",
    "masked_resample.head()"
   ]
  },
  {
   "cell_type": "markdown",
   "metadata": {},
   "source": [
    "### Feature Normalization"
   ]
  },
  {
   "cell_type": "code",
   "execution_count": 8,
   "metadata": {},
   "outputs": [],
   "source": [
    "#normalize all the features for the machine learning model to learn fast\n",
    "from sklearn.preprocessing import MinMaxScaler\n",
    "sc_X = MinMaxScaler()\n",
    "sc_y = MinMaxScaler()\n",
    "X = sc_X.fit_transform(masked_resample.iloc[:,0:12])\n",
    "y = sc_y.fit_transform(masked_resample.iloc[:,12:])"
   ]
  },
  {
   "cell_type": "markdown",
   "metadata": {},
   "source": [
    "### Define Independant and Dependant Variables"
   ]
  },
  {
   "cell_type": "code",
   "execution_count": 9,
   "metadata": {},
   "outputs": [],
   "source": [
    "# reshape the input features (X) to a 3D input for the RNN (recurrent neural network) to feed on\n",
    "X_train = X.reshape(X.shape[0],1,X.shape[1])\n",
    "y_train = y"
   ]
  },
  {
   "cell_type": "markdown",
   "metadata": {},
   "source": [
    "### Deep Learning Model Definition"
   ]
  },
  {
   "cell_type": "code",
   "execution_count": 10,
   "metadata": {},
   "outputs": [
    {
     "name": "stderr",
     "output_type": "stream",
     "text": [
      "Using TensorFlow backend.\n"
     ]
    },
    {
     "name": "stdout",
     "output_type": "stream",
     "text": [
      "WARNING:tensorflow:From C:\\ProgramData\\Anaconda3\\lib\\site-packages\\keras\\backend\\tensorflow_backend.py:74: The name tf.get_default_graph is deprecated. Please use tf.compat.v1.get_default_graph instead.\n",
      "\n",
      "WARNING:tensorflow:From C:\\ProgramData\\Anaconda3\\lib\\site-packages\\keras\\backend\\tensorflow_backend.py:517: The name tf.placeholder is deprecated. Please use tf.compat.v1.placeholder instead.\n",
      "\n",
      "WARNING:tensorflow:From C:\\ProgramData\\Anaconda3\\lib\\site-packages\\keras\\backend\\tensorflow_backend.py:4138: The name tf.random_uniform is deprecated. Please use tf.random.uniform instead.\n",
      "\n",
      "WARNING:tensorflow:From C:\\ProgramData\\Anaconda3\\lib\\site-packages\\keras\\optimizers.py:790: The name tf.train.Optimizer is deprecated. Please use tf.compat.v1.train.Optimizer instead.\n",
      "\n",
      "_________________________________________________________________\n",
      "Layer (type)                 Output Shape              Param #   \n",
      "=================================================================\n",
      "lstm_1 (LSTM)                (None, None, 30)          5160      \n",
      "_________________________________________________________________\n",
      "lstm_2 (LSTM)                (None, None, 30)          7320      \n",
      "_________________________________________________________________\n",
      "lstm_3 (LSTM)                (None, None, 30)          7320      \n",
      "_________________________________________________________________\n",
      "lstm_4 (LSTM)                (None, 30)                7320      \n",
      "_________________________________________________________________\n",
      "dense_1 (Dense)              (None, 12)                372       \n",
      "=================================================================\n",
      "Total params: 27,492\n",
      "Trainable params: 27,492\n",
      "Non-trainable params: 0\n",
      "_________________________________________________________________\n"
     ]
    }
   ],
   "source": [
    "# Recurrent Neural Netowrk (RNN) with Long Short Term Memory (LSTM)\n",
    "# Importing the Keras libraries and packages\n",
    "from keras.models import Sequential\n",
    "from keras.layers import Dense\n",
    "from keras.layers import LSTM\n",
    "\n",
    "# Initialising the RNN\n",
    "regressor = Sequential()\n",
    "\n",
    "# Adding the input layer and the LSTM layer\n",
    "regressor.add(LSTM(units = 30, return_sequences = True, input_shape = (None, X_train.shape[2])))\n",
    "# Adding a second LSTM layer\n",
    "regressor.add(LSTM(units = 30, return_sequences = True))\n",
    "# Adding a third LSTM layer\n",
    "regressor.add(LSTM(units = 30, return_sequences = True))\n",
    "# Adding a fourth LSTM layer\n",
    "regressor.add(LSTM(units = 30))\n",
    "# Adding the output layer\n",
    "regressor.add(Dense(units = y_train.shape[1]))\n",
    "\n",
    "# Compiling the RNN\n",
    "regressor.compile(optimizer = 'rmsprop', loss = 'mean_squared_error')\n",
    "regressor.summary()"
   ]
  },
  {
   "cell_type": "markdown",
   "metadata": {},
   "source": [
    "### Model Training"
   ]
  },
  {
   "cell_type": "code",
   "execution_count": 13,
   "metadata": {},
   "outputs": [
    {
     "name": "stdout",
     "output_type": "stream",
     "text": [
      "WARNING:tensorflow:From C:\\ProgramData\\Anaconda3\\lib\\site-packages\\tensorflow_core\\python\\ops\\math_grad.py:1424: where (from tensorflow.python.ops.array_ops) is deprecated and will be removed in a future version.\n",
      "Instructions for updating:\n",
      "Use tf.where in 2.0, which has the same broadcast rule as np.where\n",
      "WARNING:tensorflow:From C:\\ProgramData\\Anaconda3\\lib\\site-packages\\keras\\backend\\tensorflow_backend.py:986: The name tf.assign_add is deprecated. Please use tf.compat.v1.assign_add instead.\n",
      "\n",
      "WARNING:tensorflow:From C:\\ProgramData\\Anaconda3\\lib\\site-packages\\keras\\backend\\tensorflow_backend.py:973: The name tf.assign is deprecated. Please use tf.compat.v1.assign instead.\n",
      "\n",
      "WARNING:tensorflow:From C:\\ProgramData\\Anaconda3\\lib\\site-packages\\keras\\backend\\tensorflow_backend.py:2741: The name tf.Session is deprecated. Please use tf.compat.v1.Session instead.\n",
      "\n",
      "Epoch 1/32\n",
      "WARNING:tensorflow:From C:\\ProgramData\\Anaconda3\\lib\\site-packages\\keras\\backend\\tensorflow_backend.py:174: The name tf.get_default_session is deprecated. Please use tf.compat.v1.get_default_session instead.\n",
      "\n",
      "WARNING:tensorflow:From C:\\ProgramData\\Anaconda3\\lib\\site-packages\\keras\\backend\\tensorflow_backend.py:181: The name tf.ConfigProto is deprecated. Please use tf.compat.v1.ConfigProto instead.\n",
      "\n",
      "WARNING:tensorflow:From C:\\ProgramData\\Anaconda3\\lib\\site-packages\\keras\\backend\\tensorflow_backend.py:190: The name tf.global_variables is deprecated. Please use tf.compat.v1.global_variables instead.\n",
      "\n",
      "WARNING:tensorflow:From C:\\ProgramData\\Anaconda3\\lib\\site-packages\\keras\\backend\\tensorflow_backend.py:199: The name tf.is_variable_initialized is deprecated. Please use tf.compat.v1.is_variable_initialized instead.\n",
      "\n",
      "WARNING:tensorflow:From C:\\ProgramData\\Anaconda3\\lib\\site-packages\\keras\\backend\\tensorflow_backend.py:206: The name tf.variables_initializer is deprecated. Please use tf.compat.v1.variables_initializer instead.\n",
      "\n",
      "2344/2344 [==============================] - 10s 4ms/step - loss: 0.1120\n",
      "Epoch 2/32\n",
      "2344/2344 [==============================] - 1s 303us/step - loss: 0.0135\n",
      "Epoch 3/32\n",
      "2344/2344 [==============================] - 1s 337us/step - loss: 0.0034\n",
      "Epoch 4/32\n",
      "2344/2344 [==============================] - 1s 351us/step - loss: 0.0029\n",
      "Epoch 5/32\n",
      "2344/2344 [==============================] - 1s 341us/step - loss: 0.0028\n",
      "Epoch 6/32\n",
      "2344/2344 [==============================] - 1s 361us/step - loss: 0.0028\n",
      "Epoch 7/32\n",
      "2344/2344 [==============================] - 1s 334us/step - loss: 0.0027\n",
      "Epoch 8/32\n",
      "2344/2344 [==============================] - 1s 315us/step - loss: 0.0027\n",
      "Epoch 9/32\n",
      "2344/2344 [==============================] - 1s 320us/step - loss: 0.0025\n",
      "Epoch 10/32\n",
      "2344/2344 [==============================] - 1s 314us/step - loss: 0.0026\n",
      "Epoch 11/32\n",
      "2344/2344 [==============================] - 1s 356us/step - loss: 0.0025\n",
      "Epoch 12/32\n",
      "2344/2344 [==============================] - 1s 341us/step - loss: 0.0025\n",
      "Epoch 13/32\n",
      "2344/2344 [==============================] - 1s 361us/step - loss: 0.0025\n",
      "Epoch 14/32\n",
      "2344/2344 [==============================] - 1s 377us/step - loss: 0.0025\n",
      "Epoch 15/32\n",
      "2344/2344 [==============================] - 1s 369us/step - loss: 0.0025\n",
      "Epoch 16/32\n",
      "2344/2344 [==============================] - 1s 333us/step - loss: 0.0024\n",
      "Epoch 17/32\n",
      "2344/2344 [==============================] - 1s 351us/step - loss: 0.0024\n",
      "Epoch 18/32\n",
      "2344/2344 [==============================] - 1s 349us/step - loss: 0.0024\n",
      "Epoch 19/32\n",
      "2344/2344 [==============================] - 1s 355us/step - loss: 0.0024\n",
      "Epoch 20/32\n",
      "2344/2344 [==============================] - 1s 362us/step - loss: 0.0024\n",
      "Epoch 21/32\n",
      "2344/2344 [==============================] - 1s 346us/step - loss: 0.0023\n",
      "Epoch 22/32\n",
      "2344/2344 [==============================] - 1s 377us/step - loss: 0.0022\n",
      "Epoch 23/32\n",
      "2344/2344 [==============================] - 1s 320us/step - loss: 0.0022\n",
      "Epoch 24/32\n",
      "2344/2344 [==============================] - 1s 343us/step - loss: 0.0022\n",
      "Epoch 25/32\n",
      "2344/2344 [==============================] - 1s 363us/step - loss: 0.0022\n",
      "Epoch 26/32\n",
      "2344/2344 [==============================] - 1s 354us/step - loss: 0.0021\n",
      "Epoch 27/32\n",
      "2344/2344 [==============================] - 1s 362us/step - loss: 0.0022\n",
      "Epoch 28/32\n",
      "2344/2344 [==============================] - 1s 356us/step - loss: 0.0020\n",
      "Epoch 29/32\n",
      "2344/2344 [==============================] - 1s 331us/step - loss: 0.0021\n",
      "Epoch 30/32\n",
      "2344/2344 [==============================] - 1s 322us/step - loss: 0.0020\n",
      "Epoch 31/32\n",
      "2344/2344 [==============================] - 1s 333us/step - loss: 0.0020\n",
      "Epoch 32/32\n",
      "2344/2344 [==============================] - 1s 299us/step - loss: 0.0021\n"
     ]
    },
    {
     "data": {
      "text/plain": [
       "<keras.callbacks.History at 0x140d24afbc8>"
      ]
     },
     "execution_count": 13,
     "metadata": {},
     "output_type": "execute_result"
    }
   ],
   "source": [
    "# Fitting the RNN to the Training set (actual training happens here)\n",
    "regressor.fit(X_train, y_train, epochs = 32, batch_size = 64)"
   ]
  },
  {
   "cell_type": "markdown",
   "metadata": {},
   "source": [
    "### Model Testing and Test Result Vizualization"
   ]
  },
  {
   "cell_type": "code",
   "execution_count": 11,
   "metadata": {},
   "outputs": [
    {
     "name": "stdout",
     "output_type": "stream",
     "text": [
      "WARNING:tensorflow:From C:\\ProgramData\\Anaconda3\\lib\\site-packages\\keras\\backend\\tensorflow_backend.py:2741: The name tf.Session is deprecated. Please use tf.compat.v1.Session instead.\n",
      "\n",
      "WARNING:tensorflow:From C:\\ProgramData\\Anaconda3\\lib\\site-packages\\keras\\backend\\tensorflow_backend.py:174: The name tf.get_default_session is deprecated. Please use tf.compat.v1.get_default_session instead.\n",
      "\n",
      "WARNING:tensorflow:From C:\\ProgramData\\Anaconda3\\lib\\site-packages\\keras\\backend\\tensorflow_backend.py:181: The name tf.ConfigProto is deprecated. Please use tf.compat.v1.ConfigProto instead.\n",
      "\n",
      "WARNING:tensorflow:From C:\\ProgramData\\Anaconda3\\lib\\site-packages\\keras\\backend\\tensorflow_backend.py:190: The name tf.global_variables is deprecated. Please use tf.compat.v1.global_variables instead.\n",
      "\n",
      "WARNING:tensorflow:From C:\\ProgramData\\Anaconda3\\lib\\site-packages\\keras\\backend\\tensorflow_backend.py:199: The name tf.is_variable_initialized is deprecated. Please use tf.compat.v1.is_variable_initialized instead.\n",
      "\n",
      "WARNING:tensorflow:From C:\\ProgramData\\Anaconda3\\lib\\site-packages\\keras\\backend\\tensorflow_backend.py:206: The name tf.variables_initializer is deprecated. Please use tf.compat.v1.variables_initializer instead.\n",
      "\n"
     ]
    }
   ],
   "source": [
    "# do prediction on test data\n",
    "test_input = sc_X.transform(np.array(test_data['Price']).reshape(1,-1))\n",
    "prediction = sc_y.inverse_transform(regressor.predict(test_input.reshape(test_input.shape[0],1,test_input.shape[1])))"
   ]
  },
  {
   "cell_type": "code",
   "execution_count": 15,
   "metadata": {},
   "outputs": [
    {
     "name": "stderr",
     "output_type": "stream",
     "text": [
      "__main__:2: SettingWithCopyWarning: \n",
      "A value is trying to be set on a copy of a slice from a DataFrame.\n",
      "Try using .loc[row_indexer,col_indexer] = value instead\n",
      "\n",
      "See the caveats in the documentation: http://pandas.pydata.org/pandas-docs/stable/user_guide/indexing.html#returning-a-view-versus-a-copy\n"
     ]
    },
    {
     "data": {
      "text/plain": [
       "<function matplotlib.pyplot.show(*args, **kw)>"
      ]
     },
     "execution_count": 15,
     "metadata": {},
     "output_type": "execute_result"
    },
    {
     "data": {
      "image/png": "[encoded data removed]",
      "text/plain": [
       "<Figure size 432x288 with 1 Axes>"
      ]
     },
     "metadata": {},
     "output_type": "display_data"
    }
   ],
   "source": [
    "# vizulaization on test data prediction\n",
    "real_data['prediction'] = prediction.reshape(-1,1)\n",
    "plotting = resample[['Price']]\n",
    "plotting['predicted'] = real_data['prediction'] \n",
    "plotting.columns = ['real price', 'predicted price']\n",
    "plotting.iloc[-100:,:].plot.line()\n",
    "plt.show"
   ]
  },
  {
   "cell_type": "markdown",
   "metadata": {},
   "source": [
    "### Forecast for next 12 datapoints"
   ]
  },
  {
   "cell_type": "code",
   "execution_count": 12,
   "metadata": {},
   "outputs": [],
   "source": [
    "letest_prices = sc_X.transform(np.array(real_data['Price']).reshape(1,-1))\n",
    "forecast = sc_y.inverse_transform(regressor.predict(letest_prices.reshape(test_input.shape[0],1,letest_prices.shape[1])))"
   ]
  },
  {
   "cell_type": "markdown",
   "metadata": {},
   "source": [
    "### Forecast Vizualization"
   ]
  },
  {
   "cell_type": "code",
   "execution_count": 13,
   "metadata": {},
   "outputs": [
    {
     "name": "stderr",
     "output_type": "stream",
     "text": [
      "C:\\ProgramData\\Anaconda3\\lib\\site-packages\\pandas\\core\\arrays\\datetimelike.py:1219: FutureWarning: Addition/subtraction of integers and integer-arrays to DatetimeArray is deprecated, will be removed in a future version.  Instead of adding/subtracting `n`, use `n * self.freq`\n",
      "  maybe_integer_op_deprecated(self)\n",
      "C:\\ProgramData\\Anaconda3\\lib\\site-packages\\ipykernel_launcher.py:7: FutureWarning: Sorting because non-concatenation axis is not aligned. A future version\n",
      "of pandas will change to not sort by default.\n",
      "\n",
      "To accept the future behavior, pass 'sort=False'.\n",
      "\n",
      "To retain the current behavior and silence the warning, pass 'sort=True'.\n",
      "\n",
      "  import sys\n"
     ]
    },
    {
     "data": {
      "text/plain": [
       "<function matplotlib.pyplot.show(*args, **kw)>"
      ]
     },
     "execution_count": 13,
     "metadata": {},
     "output_type": "execute_result"
    },
    {
     "data": {
      "image/png": "[encoded data removed]",
      "text/plain": [
       "<Figure size 432x288 with 1 Axes>"
      ]
     },
     "metadata": {
      "needs_background": "light"
     },
     "output_type": "display_data"
    }
   ],
   "source": [
    "forecast_df = pd.DataFrame(forecast.reshape(-1,1))\n",
    "forecast_df.index = real_data.index + 12\n",
    "forecast_df.columns=['prediction']\n",
    "forecast_df['Price'] = np.nan\n",
    "f_plotting = resample[['Price']]\n",
    "f_plotting['prediction'] = np.nan\n",
    "f_plotting = pd.concat([f_plotting, forecast_df], axis=0)\n",
    "f_plotting.iloc[-100:,:].plot.line()\n",
    "plt.show"
   ]
  },
  {
   "cell_type": "code",
   "execution_count": 14,
   "metadata": {},
   "outputs": [],
   "source": [
    "forecast_df.drop(columns=['Price'], axis=1).to_csv('forecast.csv')"
   ]
  },
  {
   "cell_type": "code",
   "execution_count": 15,
   "metadata": {},
   "outputs": [],
   "source": [
    "forecast_df.drop(columns=['Price'], axis=1).to_csv('forecast.csv')"
   ]
  },
  {
   "cell_type": "code",
   "execution_count": null,
   "metadata": {},
   "outputs": [],
   "source": []
  }
 ],
 "metadata": {
  "kernelspec": {
   "display_name": "Python 3",
   "language": "python",
   "name": "python3"
  },
  "language_info": {
   "codemirror_mode": {
    "name": "ipython",
    "version": 3
   },
   "file_extension": ".py",
   "mimetype": "text/x-python",
   "name": "python",
   "nbconvert_exporter": "python",
   "pygments_lexer": "ipython3",
   "version": "3.7.4"
  }
 },
 "nbformat": 4,
 "nbformat_minor": 2
}
